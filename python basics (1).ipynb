{
 "cells": [
  {
   "cell_type": "code",
   "execution_count": 8,
   "id": "37279dfb-fd1c-4113-a049-ac4293892178",
   "metadata": {},
   "outputs": [
    {
     "name": "stdout",
     "output_type": "stream",
     "text": [
      "5\n",
      "10.2\n",
      "(3+4j)\n",
      "Maverick\n",
      "5 10.2 (3+4j) Maverick\n",
      "<class 'int'> <class 'float'> <class 'complex'> <class 'str'>\n"
     ]
    }
   ],
   "source": [
    "#DATA TYPES\n",
    "\n",
    "#INTEGER\n",
    "a=5\n",
    "print(a)\n",
    "\n",
    "#float\n",
    "b=10.2\n",
    "print(b)\n",
    "\n",
    "#complex\n",
    "c=3+4j\n",
    "print(c)\n",
    "\n",
    "#STRING\n",
    "d=\"Maverick\"\n",
    "print(d)\n",
    "\n",
    "\n",
    "print(a,b,c,d)\n",
    "\n",
    "print(type(a),type(b),type(c),type(d))"
   ]
  },
  {
   "cell_type": "code",
   "execution_count": 3,
   "id": "8d882119-2d38-40a1-9da8-0921e319f946",
   "metadata": {},
   "outputs": [
    {
     "name": "stdout",
     "output_type": "stream",
     "text": [
      "Hi\n"
     ]
    }
   ],
   "source": [
    "#COMMENT\n",
    "\n",
    "''' ThIS IS A MULTI LINE COMMENT '''\n",
    "print(\"Hi\")\n"
   ]
  },
  {
   "cell_type": "code",
   "execution_count": 1,
   "id": "3fa2d025-b08d-42cc-bcb2-1fdfe43def68",
   "metadata": {},
   "outputs": [
    {
     "name": "stdout",
     "output_type": "stream",
     "text": [
      "30\n",
      "-10\n",
      "200\n",
      "0.5\n",
      "0\n",
      "10\n",
      "100000000000000000000\n"
     ]
    }
   ],
   "source": [
    "#Arithmetic operators\n",
    "\n",
    "#PEMDAS Rule\n",
    "\n",
    "x=10\n",
    "y=20\n",
    "\n",
    "#addition\n",
    "print(x+y)\n",
    "\n",
    "#subtraction\n",
    "print(x-y)\n",
    "\n",
    "#multiplication\n",
    "print(x*y)\n",
    "\n",
    "#division\n",
    "print(x/y)\n",
    "\n",
    "#floor division-remove decimal, give round figure value\n",
    "print(x//y)\n",
    "\n",
    "#modulus-remainder\n",
    "print(x%y)\n",
    "\n",
    "#exponental-calculate power\n",
    "print(x**y)\n"
   ]
  },
  {
   "cell_type": "code",
   "execution_count": 4,
   "id": "512cba38-7e4c-43b0-8f6d-cda160a8d307",
   "metadata": {},
   "outputs": [
    {
     "name": "stdout",
     "output_type": "stream",
     "text": [
      "False\n",
      "True\n",
      "False\n",
      "True\n",
      "False\n",
      "True\n"
     ]
    }
   ],
   "source": [
    "#Compareson Operators\n",
    "\n",
    "#Boolean Value\n",
    "\n",
    "x=5\n",
    "y=9\n",
    "\n",
    "print(x==y)\n",
    "print(x!=y)\n",
    "print(x>y)\n",
    "print(x<y)\n",
    "print(x>=y)\n",
    "print(x<=y)\n"
   ]
  },
  {
   "cell_type": "code",
   "execution_count": 1,
   "id": "8f1d9151-4d85-4fae-aa1b-1b49da50f058",
   "metadata": {},
   "outputs": [
    {
     "name": "stdout",
     "output_type": "stream",
     "text": [
      "True\n",
      "True\n",
      "False\n"
     ]
    }
   ],
   "source": [
    "#Logical Operators (for multiple conditions)\n",
    "\n",
    "#boolean value\n",
    "\n",
    "\"\"\"\n",
    "AND - all conditions must be true\n",
    "OR  - at least one condition must be true\n",
    "NOT - single operand - reverse the value\n",
    "\"\"\"\n",
    "age=20\n",
    "is_student=True\n",
    "print(age>18 and is_student)\n",
    "print(age>25 or is_student)\n",
    "print(not is_student)\n"
   ]
  },
  {
   "cell_type": "code",
   "execution_count": 2,
   "id": "7f9e37f3-5a04-4408-808d-9811de27d108",
   "metadata": {},
   "outputs": [
    {
     "name": "stdout",
     "output_type": "stream",
     "text": [
      "True\n",
      "True\n",
      "False\n"
     ]
    }
   ],
   "source": [
    "a=10\n",
    "b=20\n",
    "\n",
    "print(a>5 and b>10)\n",
    "print(a<1 or b==20)\n",
    "print(not (a==10))\n"
   ]
  },
  {
   "cell_type": "code",
   "execution_count": 8,
   "id": "109426c7-b562-406a-9f24-cd837f294591",
   "metadata": {},
   "outputs": [
    {
     "name": "stdout",
     "output_type": "stream",
     "text": [
      "15\n",
      "10\n",
      "50\n"
     ]
    }
   ],
   "source": [
    "#Assignment Operator\n",
    "\n",
    "\"\"\"\n",
    "=\n",
    "+=\n",
    "-=\n",
    "*=\n",
    "\"\"\"\n",
    "x=10\n",
    "x+=5\n",
    "print(x)\n",
    "\n",
    "x-=5\n",
    "print(x)\n",
    "\n",
    "x*=5\n",
    "print(x)\n"
   ]
  },
  {
   "cell_type": "code",
   "execution_count": 10,
   "id": "2e1e225e-88b4-4e54-9c0d-732c52ea150d",
   "metadata": {},
   "outputs": [
    {
     "name": "stdout",
     "output_type": "stream",
     "text": [
      "True\n",
      "False\n"
     ]
    }
   ],
   "source": [
    "#Identity Operator\n",
    "\n",
    "#comapre memmory locations of two obejects, not the data store\n",
    "\"\"\"\n",
    "is-True\n",
    "is not-True\n",
    "\"\"\"\n",
    "a=[1,2,3]\n",
    "b=a\n",
    "c=[1,2,3]\n",
    "\n",
    "print(a is b)\n",
    "print(a is c)\n"
   ]
  },
  {
   "cell_type": "code",
   "execution_count": 17,
   "id": "7b2565b0-4e5d-4c53-9e84-1f632275d095",
   "metadata": {},
   "outputs": [
    {
     "name": "stdout",
     "output_type": "stream",
     "text": [
      "True\n",
      "False\n"
     ]
    }
   ],
   "source": [
    "#Membership Oprtator\n",
    "\n",
    "#used to check if a value exist in a sequence or NOT\n",
    "\"\"\"\n",
    "in-True\n",
    "not in-True\n",
    "\"\"\"\n",
    "fruits=['apple', 'banana', 'mangoe']\n",
    "print('apple'in fruits)\n",
    "print('peach' in fruits)"
   ]
  },
  {
   "cell_type": "code",
   "execution_count": 3,
   "id": "48afb44e-5a4c-4cc8-834f-54c09f50f541",
   "metadata": {},
   "outputs": [
    {
     "name": "stdin",
     "output_type": "stream",
     "text": [
      "Enter radius= 4\n"
     ]
    },
    {
     "name": "stdout",
     "output_type": "stream",
     "text": [
      "Area of Circle:50.352\n"
     ]
    }
   ],
   "source": [
    "#Control Statements\n",
    "\n",
    "# Problem (Area of Circle)\n",
    "pie=3.147\n",
    "radius=float(input(\"Enter radius=\"))\n",
    "area_of_circle=pie*radius*radius\n",
    "print(f\"Area of Circle:{area_of_circle}\")"
   ]
  },
  {
   "cell_type": "code",
   "execution_count": 5,
   "id": "206935ba-9d45-4245-bda4-913eceb47c83",
   "metadata": {},
   "outputs": [
    {
     "data": {
      "text/plain": [
       "'\\nconditional- if, elif, else\\nfor while else suite\\nnested\\ninfinite loop\\npass\\ncontinue\\nbreak\\nassert return\\n'"
      ]
     },
     "execution_count": 5,
     "metadata": {},
     "output_type": "execute_result"
    }
   ],
   "source": [
    "#Control Statments\n",
    "\n",
    "\"\"\"\n",
    "conditional- if, elif, else\n",
    "for while else suite\n",
    "nested\n",
    "infinite loop\n",
    "pass\n",
    "continue\n",
    "break\n",
    "assert return\n",
    "\"\"\"\n"
   ]
  },
  {
   "cell_type": "code",
   "execution_count": 14,
   "id": "16d80171-9815-4e15-9b80-4b4fe15d16d9",
   "metadata": {},
   "outputs": [
    {
     "name": "stdin",
     "output_type": "stream",
     "text": [
      "enter your age = 23\n"
     ]
    },
    {
     "name": "stdout",
     "output_type": "stream",
     "text": [
      "You can vote\n"
     ]
    }
   ],
   "source": [
    "#Conditional statement\n",
    "\n",
    "age=int(input(\"enter your age =\"))\n",
    "if(age>=18 and age<=100):\n",
    "    print(\"You can vote\")\n",
    "elif age>100:\n",
    "    print(\"Greater than 100\")\n",
    "elif age<=0:\n",
    "    print(\"Invalid age\")\n",
    "else:\n",
    "    print(\"Error Occurred\")"
   ]
  },
  {
   "cell_type": "code",
   "execution_count": 19,
   "id": "e7ca52d9-5a8f-46f6-980b-a18a1a032e7f",
   "metadata": {},
   "outputs": [
    {
     "name": "stdin",
     "output_type": "stream",
     "text": [
      "enter number 1 =  12\n",
      "enter number 2 =  3\n",
      "Enter your choice + - * /  /\n"
     ]
    },
    {
     "name": "stdout",
     "output_type": "stream",
     "text": [
      "Division:4.0\n"
     ]
    }
   ],
   "source": [
    "# Simple Calculator Project\n",
    "\n",
    "num_1=float(input(\"enter number 1 = \"))\n",
    "num_2=float(input(\"enter number 2 = \"))\n",
    "\n",
    "choice= input(\"Enter your choice + - * / \")\n",
    "\n",
    "if choice== \"+\" :\n",
    "    print(f\"Addition:{num_1 + num_2}\")\n",
    "elif choice==\"-\":\n",
    "    print(f\"Subtraction:{num_1 - num_2}\")\n",
    "elif choice==\"*\":\n",
    "    print(f\"Multiplication:{num_1 * num_2}\")\n",
    "elif choice==\"/\":\n",
    "    print(f\"Division:{num_1 / num_2}\")\n",
    "else:\n",
    "    print(\"Invalid Choice\")\n",
    "    \n",
    "    "
   ]
  },
  {
   "cell_type": "code",
   "execution_count": 16,
   "id": "24002a7f-0852-4ed9-b438-f0a8234cc124",
   "metadata": {},
   "outputs": [
    {
     "name": "stdout",
     "output_type": "stream",
     "text": [
      "false\n"
     ]
    }
   ],
   "source": [
    "x=5\n",
    "if x==4:\n",
    "    print(\"true\")\n",
    "else:\n",
    "    print(\"false\")"
   ]
  },
  {
   "cell_type": "code",
   "execution_count": null,
   "id": "8dfd9af5-9ff4-41d7-b18b-0c53ca826eeb",
   "metadata": {},
   "outputs": [],
   "source": [
    "#Multiple times repeat\n",
    "\n",
    "\"\"\"\n",
    "1- while loop (repeats until the condition is met)\n",
    "2- for loop ( repeats for a specific time)\n",
    "\"\"\""
   ]
  },
  {
   "cell_type": "code",
   "execution_count": null,
   "id": "6ae7c261-ad3c-4336-8622-f26375d0def3",
   "metadata": {},
   "outputs": [],
   "source": [
    "#While loop"
   ]
  },
  {
   "cell_type": "code",
   "execution_count": 2,
   "id": "24984b1f-e807-4ac9-be20-d1c0c546f460",
   "metadata": {},
   "outputs": [
    {
     "name": "stdout",
     "output_type": "stream",
     "text": [
      "1\n",
      "2\n",
      "3\n",
      "4\n",
      "5\n"
     ]
    }
   ],
   "source": [
    "i=1\n",
    "while i<=5:\n",
    "    print(i)\n",
    "    i+=1"
   ]
  },
  {
   "cell_type": "code",
   "execution_count": 3,
   "id": "a1f1739f-ef82-46f6-ad36-e35133db1fcd",
   "metadata": {},
   "outputs": [
    {
     "name": "stdout",
     "output_type": "stream",
     "text": [
      "1\n",
      "2\n",
      "3\n",
      "4\n",
      "5\n"
     ]
    }
   ],
   "source": [
    "#For loop\n",
    "\n",
    "\"\"\" \n",
    "is used for ittration over sequence\n",
    "List tuple dictionary string , for variable in sequence:\n",
    "\"\"\"\n",
    "a= [1,2,3,4,5]\n",
    "for i in a:\n",
    "    print(i)"
   ]
  },
  {
   "cell_type": "code",
   "execution_count": 8,
   "id": "f57d50df-3c89-48bf-b854-ac4692d5bf67",
   "metadata": {},
   "outputs": [
    {
     "name": "stdout",
     "output_type": "stream",
     "text": [
      "[1, 2, 3, 4, 5, 6, 7, 8, 9, 10, 11, 12, 13, 14, 15, 16, 17, 18, 19, 20, 21, 22, 23, 24, 25, 26, 27, 28, 29, 30, 31, 32, 33, 34, 35, 36, 37, 38, 39, 40, 41, 42, 43, 44, 45, 46, 47, 48, 49, 50, 51, 52, 53, 54, 55, 56, 57, 58, 59, 60, 61, 62, 63, 64, 65, 66, 67, 68, 69, 70, 71, 72, 73, 74, 75, 76, 77, 78, 79, 80, 81, 82, 83, 84, 85, 86, 87, 88, 89, 90, 91, 92, 93, 94, 95, 96, 97, 98, 99, 100]\n"
     ]
    }
   ],
   "source": [
    "#Range\n",
    "\n",
    "\"\"\"\n",
    "range(start, stop , step)\n",
    "start-1\n",
    "stop-101 , excluded\n",
    "step-1\n",
    "tuple, list etc\n",
    "\"\"\"\n",
    "a= list(range(1,101,1))\n",
    "print(a)\n",
    "\n",
    "\n"
   ]
  },
  {
   "cell_type": "code",
   "execution_count": 5,
   "id": "bb69eba0-0c3c-452a-8666-fee0ba93390c",
   "metadata": {},
   "outputs": [
    {
     "name": "stdout",
     "output_type": "stream",
     "text": [
      "1,3\n",
      "1,4\n",
      "1,5\n",
      "2,3\n",
      "2,4\n",
      "2,5\n"
     ]
    }
   ],
   "source": [
    "#Nested loop\n",
    "\n",
    "for i in range(1,3):\n",
    "    \n",
    "       for j in range(3,6):\n",
    "           print(f\"{i},{j}\")\n",
    "    \n",
    "\n",
    "     \n",
    "     \n",
    "# \"\"\"\n",
    "# i=1\n",
    "# j=3,j=4,j=5\n",
    "\n",
    "# i=1\n",
    "# j=3\n",
    "\n",
    "# 1,4\n",
    "# 1,5\n",
    "\n",
    "# i=2\n",
    "\n",
    "# 2,3\n",
    "# 2,4\n",
    "# 2,5\n",
    "# \"\"\"\n",
    "    \n"
   ]
  },
  {
   "cell_type": "code",
   "execution_count": 8,
   "id": "f3cddc72-d4bc-4136-a80c-268010ef325c",
   "metadata": {},
   "outputs": [
    {
     "name": "stdout",
     "output_type": "stream",
     "text": [
      "1\n",
      "2\n",
      "3\n",
      "4\n"
     ]
    }
   ],
   "source": [
    "#Break Statement\n",
    "\n",
    "for num in range(1,10,1):\n",
    "    if num==5:\n",
    "        break\n",
    "    print(num)\n",
    "\n",
    "        "
   ]
  },
  {
   "cell_type": "code",
   "execution_count": 9,
   "id": "f59c0788-d937-4e97-86a3-b188ede17c1e",
   "metadata": {},
   "outputs": [
    {
     "name": "stdout",
     "output_type": "stream",
     "text": [
      "1\n",
      "2\n",
      "4\n"
     ]
    }
   ],
   "source": [
    "#Continue statement\n",
    "\n",
    "for num in range (1,5):\n",
    "    if num==3:\n",
    "        continue #Skip\n",
    "    print(num)"
   ]
  },
  {
   "cell_type": "code",
   "execution_count": 10,
   "id": "4a8acd0a-a845-42b1-9378-29648af2bd4b",
   "metadata": {},
   "outputs": [
    {
     "name": "stdout",
     "output_type": "stream",
     "text": [
      "1\n",
      "2\n",
      "3\n",
      "4\n",
      "5\n",
      "6\n",
      "7\n",
      "8\n",
      "9\n"
     ]
    }
   ],
   "source": [
    "#Pass Statment\n",
    "\n",
    "for num in range(1,10):\n",
    "    if num==4:\n",
    "        pass\n",
    "    print(num)\n"
   ]
  },
  {
   "cell_type": "code",
   "execution_count": 13,
   "id": "6bcc1ec4-8164-4d00-955c-0f22873ce077",
   "metadata": {},
   "outputs": [
    {
     "name": "stdout",
     "output_type": "stream",
     "text": [
      "odd 1\n",
      "even 2\n",
      "odd 3\n",
      "even 4\n",
      "odd 5\n",
      "even 6\n",
      "odd 7\n",
      "even 8\n",
      "odd 9\n",
      "even 10\n"
     ]
    }
   ],
   "source": [
    "#Even Number\n",
    "\n",
    "for i in range(1,11):\n",
    "    if i%2==0:\n",
    "        print(\"even\" ,i)\n",
    "        \n",
    "#Odd Number\n",
    "    \n",
    "    else:\n",
    "        print(\"odd\",i)"
   ]
  },
  {
   "cell_type": "code",
   "execution_count": 14,
   "id": "38169bb2-754b-4301-82d6-430cf3abed3e",
   "metadata": {},
   "outputs": [
    {
     "name": "stdin",
     "output_type": "stream",
     "text": [
      "enter start = 1\n",
      "enter stop = 20\n",
      "number you want to skip = 9\n"
     ]
    },
    {
     "name": "stdout",
     "output_type": "stream",
     "text": [
      "1\n",
      "2\n",
      "3\n",
      "4\n",
      "5\n",
      "6\n",
      "7\n",
      "8\n",
      "10\n",
      "11\n",
      "12\n",
      "13\n",
      "14\n",
      "15\n",
      "16\n",
      "17\n",
      "18\n",
      "19\n"
     ]
    }
   ],
   "source": [
    "start=int(input('enter start ='))\n",
    "stop=int(input('enter stop ='))\n",
    "\n",
    "skip=int(input('number you want to skip ='))\n",
    "for i in range(start , stop):\n",
    "    if i==skip:\n",
    "       continue\n",
    "    print(i)\n",
    "    "
   ]
  },
  {
   "cell_type": "code",
   "execution_count": 17,
   "id": "dec3f15a-5707-4985-bd40-2fb17e9fe720",
   "metadata": {},
   "outputs": [
    {
     "name": "stdout",
     "output_type": "stream",
     "text": [
      "Ibad python \n",
      "this is a multi line string\n",
      " this is a multi line string \n"
     ]
    }
   ],
   "source": [
    "#Strings\n",
    "\n",
    "name='Ibad'\n",
    "\n",
    "name_2=\"python\"\n",
    "name_3='''\n",
    "this is a multi line string\n",
    "'''\n",
    "#space is also a string\n",
    "\n",
    "name_4=\"\"\"this is a multi line string \"\"\"\n",
    "print(name , name_2 , name_3 , name_4)\n"
   ]
  },
  {
   "cell_type": "code",
   "execution_count": 20,
   "id": "1fffd3a1-32ef-40b2-9b50-c0007c9a1368",
   "metadata": {},
   "outputs": [
    {
     "name": "stdout",
     "output_type": "stream",
     "text": [
      "p\n",
      "n\n"
     ]
    }
   ],
   "source": [
    "#Indexing\n",
    "\n",
    "a=\"python\"\n",
    "print(a[0]) #positive indexing (left to right- start from 0)\n",
    "\n",
    "print(a[-1]) #negative indexing(right to left - start from -1) \n"
   ]
  },
  {
   "cell_type": "code",
   "execution_count": 21,
   "id": "d80ddae8-a93a-4abc-beae-c5d4a2e58df4",
   "metadata": {},
   "outputs": [
    {
     "name": "stdout",
     "output_type": "stream",
     "text": [
      "p\n",
      "y\n",
      "t\n",
      "h\n",
      "o\n",
      "n\n"
     ]
    }
   ],
   "source": [
    "#iterable\n",
    "\n",
    "language=\"python\"\n",
    "for i in language:\n",
    "    print(i)"
   ]
  },
  {
   "cell_type": "code",
   "execution_count": 24,
   "id": "869974d6-f5e8-40d8-9cfe-bb6a4ea6096d",
   "metadata": {},
   "outputs": [
    {
     "name": "stdout",
     "output_type": "stream",
     "text": [
      "6\n",
      "14\n",
      "12\n"
     ]
    }
   ],
   "source": [
    "#operations on string\n",
    "\n",
    "#length of a string\n",
    "\n",
    "str=\"python\"\n",
    "print(len(str))\n",
    "\n",
    "a=\"python is easy\" #spaces are also string\n",
    "print(len(a))\n",
    "\n",
    "b=\"PythonIsEasy\"\n",
    "print(len(b))"
   ]
  },
  {
   "cell_type": "code",
   "execution_count": 31,
   "id": "048e082d-cf7b-4ff6-8728-98af83a34ee7",
   "metadata": {},
   "outputs": [
    {
     "name": "stdin",
     "output_type": "stream",
     "text": [
      "enter your password = ibad\n"
     ]
    },
    {
     "name": "stdout",
     "output_type": "stream",
     "text": [
      "length is too short or <5\n"
     ]
    }
   ],
   "source": [
    "password=(input(\"enter your password =\"))\n",
    "if len(password)>=5:\n",
    "    print ('login successfull')\n",
    "else:\n",
    "    print('length is too short or <5')\n",
    "    "
   ]
  },
  {
   "cell_type": "code",
   "execution_count": 2,
   "id": "99858eb5-ef42-455a-8c21-e5d2bc672b63",
   "metadata": {},
   "outputs": [
    {
     "name": "stdout",
     "output_type": "stream",
     "text": [
      "hsi yhn\n"
     ]
    }
   ],
   "source": [
    "#Slicing\n",
    "\"\"\"\n",
    "string[start:stop:step]\n",
    "\"\"\"\n",
    "text=\"This is python\"\n",
    "print(text[1:15:2])"
   ]
  },
  {
   "cell_type": "code",
   "execution_count": 4,
   "id": "0949f0db-be6d-4034-bf76-a68f71774d40",
   "metadata": {},
   "outputs": [
    {
     "name": "stdout",
     "output_type": "stream",
     "text": [
      "hi IbadMalik\n"
     ]
    }
   ],
   "source": [
    "#Concatenation\n",
    "\n",
    "name=\"Ibad\"\n",
    "sur_name=\"Malik\"\n",
    "print(\"hi\",name+sur_name)   #string can be only cancatenate with string"
   ]
  },
  {
   "cell_type": "code",
   "execution_count": 13,
   "id": "6b4f51f8-b76c-4846-a07b-cdfec0d06c1e",
   "metadata": {},
   "outputs": [
    {
     "name": "stdout",
     "output_type": "stream",
     "text": [
      "python is easy\n"
     ]
    },
    {
     "name": "stdin",
     "output_type": "stream",
     "text": [
      "Enter Your Name IBAD\n"
     ]
    },
    {
     "name": "stdout",
     "output_type": "stream",
     "text": [
      "ibad\n"
     ]
    }
   ],
   "source": [
    "#Methods\n",
    "\n",
    "#lower()\n",
    "\n",
    "str='PYTHON IS EASY'\n",
    "print(str.lower())\n",
    "\n",
    "\n",
    "str=input('Enter Your Name').lower()\n",
    "print(str)"
   ]
  },
  {
   "cell_type": "code",
   "execution_count": 3,
   "id": "a3281e34-54a0-4ab7-b28f-f87aeff38f5a",
   "metadata": {},
   "outputs": [
    {
     "name": "stdout",
     "output_type": "stream",
     "text": [
      "PYTHON IS EASY\n"
     ]
    },
    {
     "name": "stdin",
     "output_type": "stream",
     "text": [
      "Enter Your Name maverick\n"
     ]
    },
    {
     "name": "stdout",
     "output_type": "stream",
     "text": [
      "MAVERICK\n"
     ]
    }
   ],
   "source": [
    "#upper\n",
    "\n",
    "str1='python is easy'\n",
    "print(str1.upper())\n",
    "\n",
    "str=input('Enter Your Name').upper()\n",
    "print(str)"
   ]
  },
  {
   "cell_type": "code",
   "execution_count": 6,
   "id": "ae508260-789b-4b41-b926-8cc019f8cf78",
   "metadata": {},
   "outputs": [
    {
     "name": "stdin",
     "output_type": "stream",
     "text": [
      "Enter Your Name ibad\n"
     ]
    },
    {
     "name": "stdout",
     "output_type": "stream",
     "text": [
      "Ibad\n"
     ]
    }
   ],
   "source": [
    "#Capitalize\n",
    "\n",
    "str=input('Enter Your Name').capitalize() \n",
    "#It capitalizes the first letter of a word\n",
    "print(str)"
   ]
  },
  {
   "cell_type": "code",
   "execution_count": 8,
   "id": "03a3bff5-407c-4c30-85c4-33910edd179b",
   "metadata": {},
   "outputs": [
    {
     "name": "stdin",
     "output_type": "stream",
     "text": [
      "Enter a Sentence python is greate\n"
     ]
    },
    {
     "name": "stdout",
     "output_type": "stream",
     "text": [
      "Python Is Greate\n"
     ]
    }
   ],
   "source": [
    "#Title\n",
    "\n",
    "str=input('Enter a Sentence').title()\n",
    "#it capitalizes the first letters of all the words in a sentence\n",
    "print(str)"
   ]
  },
  {
   "cell_type": "code",
   "execution_count": 10,
   "id": "e7c45e16-5ad9-4bd3-878b-67dd6d0f04e1",
   "metadata": {},
   "outputs": [
    {
     "name": "stdin",
     "output_type": "stream",
     "text": [
      "enter a word aBCdEfGHijKL\n"
     ]
    },
    {
     "name": "stdout",
     "output_type": "stream",
     "text": [
      "AbcDeFghIJkl\n"
     ]
    }
   ],
   "source": [
    "#Swap case\n",
    "\n",
    "#it reverse upper case into lower and lower into upper case\n",
    "str=input('enter a word').swapcase()\n",
    "print(str)"
   ]
  },
  {
   "cell_type": "code",
   "execution_count": 15,
   "id": "441d1af5-527a-4ec6-883d-59f898469565",
   "metadata": {},
   "outputs": [
    {
     "name": "stdout",
     "output_type": "stream",
     "text": [
      "10\n"
     ]
    }
   ],
   "source": [
    "#Searching and Replaceing Methods\n",
    "\n",
    "#Find\n",
    "\n",
    "text=\"Python Programming\"\n",
    "#it gives the index number of that letter that comes first\n",
    "print(text.find('g'))\n"
   ]
  },
  {
   "cell_type": "code",
   "execution_count": 22,
   "id": "268a4cd7-430c-4ab3-9392-01e80adff9cb",
   "metadata": {},
   "outputs": [
    {
     "name": "stdout",
     "output_type": "stream",
     "text": [
      "Java Programming\n"
     ]
    }
   ],
   "source": [
    "#Replace\n",
    "\n",
    "text=\"Python Programming\"\n",
    "print(text.replace(\"Python\",\"Java\"))"
   ]
  },
  {
   "cell_type": "code",
   "execution_count": 32,
   "id": "86a7d65d-ff17-47ee-aa10-ff28573d1037",
   "metadata": {},
   "outputs": [
    {
     "name": "stdout",
     "output_type": "stream",
     "text": [
      "['maverick', ' khan ', ' gull']\n",
      "maverick, khan , gull\n"
     ]
    }
   ],
   "source": [
    "#Splitting\n",
    "\n",
    "str=\"maverick, khan , gull\"\n",
    " #we splitted it on the basis of comma, (it return a list)\n",
    "s=str.split(',')\n",
    "print(s)\n",
    "\n",
    "\n",
    "#Joining\n",
    "\n",
    "result=\",\".join(s)\n",
    "#It joins on the basis of comma and converted a list back to a string\n",
    "print(result)\n"
   ]
  },
  {
   "cell_type": "code",
   "execution_count": 39,
   "id": "a04ea2a5-89f1-4db7-8f75-4b03a5ce3b78",
   "metadata": {},
   "outputs": [
    {
     "name": "stdout",
     "output_type": "stream",
     "text": [
      "True\n",
      "True\n",
      "True\n",
      "False\n",
      "True\n"
     ]
    }
   ],
   "source": [
    "#Checking Methods\n",
    "\n",
    "#starts-with (tells if a string start with that letter)\n",
    "\n",
    "str=\"Python\"\n",
    "print(str.startswith('P'))\n",
    "\n",
    "\n",
    "#ends-with (tells if a string ends with that letter\n",
    "\n",
    "print(str.endswith('n')) \n",
    "\n",
    "\n",
    "\n",
    "#is-alpha (tells if all the letters are alphabatic)\n",
    "\n",
    "print(str.isalpha())\n",
    "\n",
    "\n",
    "#is-digit (tells if all the letter are digits)\n",
    "\n",
    "print(str.isdigit())\n",
    "\n",
    "\n",
    "#is-alnum (tells if it have both numeric and alphabatic values)\n",
    "\n",
    "str1='123Python'\n",
    "print(str1.isalnum())\n",
    "\n",
    "\n",
    "#All of these methods returns a boolean value (either True or False)\n"
   ]
  },
  {
   "cell_type": "code",
   "execution_count": 42,
   "id": "ecb90b3c-74d7-4aef-894f-67621ae3d6de",
   "metadata": {},
   "outputs": [
    {
     "name": "stdout",
     "output_type": "stream",
     "text": [
      "[1, 2, 3, 4, 'a', 'b', 'c']\n",
      "['Hello', 1, 3, 8, 9, 'Python']\n"
     ]
    }
   ],
   "source": [
    "#Data Structures\n",
    "\n",
    "\n",
    "#List\n",
    "\n",
    "\"\"\"\n",
    "1-Ordered\n",
    "2-mutable\n",
    "3-dynamic\n",
    "4-heterogenious\n",
    "\"\"\"\n",
    "#ways to create list\n",
    "\n",
    "#1-square brackets\n",
    "my_list=[1,2,3,4,'a','b','c']\n",
    "print(my_list)\n",
    "\n",
    "#2-using list constuctor\n",
    "my_list=list((\"Hello\",1,3,8,9,\"Python\"))\n",
    "print(my_list)"
   ]
  },
  {
   "cell_type": "code",
   "execution_count": 48,
   "id": "27b080fb-fb04-4922-b178-3e3ee56e0d19",
   "metadata": {},
   "outputs": [
    {
     "name": "stdout",
     "output_type": "stream",
     "text": [
      "1\n",
      "[1, 2, 'hello world', 4]\n",
      "[10, 'a', 'c', 40, 4]\n",
      "[1, 2, 3, 4, 5, 6, 7, 8, 9, 10]\n",
      "[7, 8, 9, 'hi', 'hello', 7, 8, 9, 'hi', 'hello', 7, 8, 9, 'hi', 'hello', 7, 8, 9, 'hi', 'hello']\n"
     ]
    }
   ],
   "source": [
    "\"\"\"\n",
    "How to access values of a list, and how to upadate values\n",
    "\"\"\"\n",
    "#access by indexing\n",
    "lst=[1,2,3,4]\n",
    "print(lst[0])\n",
    "\n",
    "#upadting values\n",
    "lst[2]=\"hello world\"\n",
    "print(lst)\n",
    "\n",
    "#If we have to update more than 1 value\n",
    "\n",
    "lst[0:3]=10,'a','c',40\n",
    "print(lst)\n",
    "\n",
    "\n",
    "#Concatination\n",
    "\n",
    "lst_1=[1,2,3,4,5]\n",
    "lst_2=[6,7,8,9,10]\n",
    "result=lst_1+lst_2\n",
    "print(result)\n",
    "\n",
    "#Repeatetion\n",
    "\n",
    "lst_3=[7,8,9,'hi','hello']\n",
    "print(lst_3*4)\n",
    "\n"
   ]
  },
  {
   "cell_type": "code",
   "execution_count": 52,
   "id": "edddf458-7d12-4023-87fd-220988405a0b",
   "metadata": {},
   "outputs": [
    {
     "name": "stdin",
     "output_type": "stream",
     "text": [
      "enter a number to check=  5\n"
     ]
    },
    {
     "name": "stdout",
     "output_type": "stream",
     "text": [
      "found\n"
     ]
    }
   ],
   "source": [
    "#Membership\n",
    "\"\"\"\n",
    "in-True/False\n",
    "not in -Opposite\n",
    "\"\"\"\n",
    "lst_1=[1,2,3,4,5,6,7,8]\n",
    "check=int(input('enter a number to check= '))\n",
    "\n",
    "if check in lst_1:\n",
    "    print('found')\n",
    "else:\n",
    "    print('Not Found')"
   ]
  },
  {
   "cell_type": "code",
   "execution_count": 55,
   "id": "8f2bfb6f-7a75-4e1c-a5ec-03a1aea95264",
   "metadata": {},
   "outputs": [
    {
     "name": "stdout",
     "output_type": "stream",
     "text": [
      "[1, 2, 3]\n",
      "[1, 200, 3] [1, 200, 3]\n",
      "[1, 2, 3] [100, 2, 3]\n"
     ]
    }
   ],
   "source": [
    "#alias\n",
    "\n",
    "list_1=[1,2,3]\n",
    "list_2=list_1\n",
    "print(list_2)\n",
    "\n",
    "#now if we have to change any value in lsit_2 it will also change in list_1\n",
    "\n",
    "list_2[1]=200\n",
    "print(list_1 , list_2)\n",
    "\n",
    "#to solve this we will use copy method\n",
    "#Copy\n",
    "\n",
    "list_3=[1,2,3]\n",
    "list_4=list_3.copy()\n",
    "list_4[0]=100\n",
    "print(list_3 , list_4)\n"
   ]
  },
  {
   "cell_type": "code",
   "execution_count": 77,
   "id": "6288d315-9b71-4552-afed-03b7ae215aab",
   "metadata": {},
   "outputs": [
    {
     "name": "stdout",
     "output_type": "stream",
     "text": [
      "[1, 2, 3, 4]\n",
      "[1, 2, 3, 7, 8, 9]\n",
      "['Hey Coders', 1, 2, 3]\n",
      "[1, 2, 3]\n",
      "1\n",
      "['Hey Coders', 2, 3]\n",
      "[]\n",
      "6\n",
      "4\n",
      "[1, 1, 2, 2, 3, 5, 7, 8, 9, 10, 12, 13, 14, 22]\n",
      "[22, 14, 13, 12, 10, 9, 8, 7, 5, 3, 2, 2, 1, 1]\n"
     ]
    }
   ],
   "source": [
    "#Operations on list\n",
    "\n",
    "#Append\n",
    "a=[1,2,3]\n",
    "a.append(4) #(it will add a value at the end)\n",
    "print(a)\n",
    "\n",
    "#Extend\n",
    "a=[1,2,3]\n",
    "b=[7,8,9]\n",
    "a.extend(b) # it will add the values of b after a\n",
    "print(a)\n",
    "\n",
    "#insert\n",
    "a=[1,2,3]\n",
    "a.insert(0 ,'Hey Coders') # it will not remove or delete anything it will just insert a new value at that index\n",
    "print(a)\n",
    "\n",
    "#remove\n",
    "a=['Hey Coders', 1, 2, 3]\n",
    "a.remove('Hey Coders') # it removes the given value\n",
    "print(a)\n",
    "\n",
    "#pop\n",
    "a=['Hey Coders', 1, 2, 3]\n",
    "popped=a.pop(1)   # it removes the value by giving its index number\n",
    "print(popped)\n",
    "print(a)\n",
    "\n",
    "#clear\n",
    "a=['Hey Coders', 1, 2, 3]\n",
    "a.clear() # it will delete all the values and return an empty list\n",
    "print(a)\n",
    "\n",
    "#index\n",
    "a=['Hey Coders', 1, 2, 3, 'a', 'b',10,12]\n",
    "index=a.index(10)  # it will give us index number of of the value we pass\n",
    "print(index)\n",
    "\n",
    "#Count\n",
    "a=['Hey Coders', 1, 2, 3, 'a', 'b',10,12 , 2, 1 , 1 ,2,4,1]\n",
    "count=a.count(1)  #it tells the number of repitition for a value\n",
    "print(count)\n",
    "\n",
    "#Sort\n",
    "a=[22, 13 , 14, 1,  8 , 7 ,2, 3,5 , 9,10,12 , 1 , 2]\n",
    "a.sort() # sort values in to order\n",
    "print(a)\n",
    "\n",
    "#Reverse\n",
    "a=[22, 13 , 14, 1,  8 , 7 ,2, 3,5 , 9,10,12 , 1 , 2]\n",
    "a.reverse() # sort in reverse order\n",
    "print(a)\n"
   ]
  },
  {
   "cell_type": "code",
   "execution_count": 1,
   "id": "1d01f372-bc98-4a65-bb00-2d29b39f0889",
   "metadata": {},
   "outputs": [
    {
     "name": "stdout",
     "output_type": "stream",
     "text": [
      "-10\n",
      "200\n"
     ]
    }
   ],
   "source": [
    "#Funtions\n",
    "\n",
    "#minimum and maximum\n",
    "\n",
    "a=[1,2,3,-10,200,-5,100,0]\n",
    "\n",
    "print(min(a))\n",
    "print(max(a))"
   ]
  },
  {
   "cell_type": "code",
   "execution_count": 5,
   "id": "ef0e3e59-8759-4345-a8e2-6d8789eade17",
   "metadata": {},
   "outputs": [
    {
     "name": "stdout",
     "output_type": "stream",
     "text": [
      "[3]\n"
     ]
    }
   ],
   "source": [
    "#Common (Intersection)\n",
    "a=[1,2,3]\n",
    "b=[3,5,6]\n",
    "\n",
    "#convert into set\n",
    "s1=set(a)\n",
    "s2=set(b)\n",
    "\n",
    "s3=s1.intersection(s2)\n",
    "print(list(s3))\n"
   ]
  },
  {
   "cell_type": "code",
   "execution_count": 6,
   "id": "16fd9aa2-fbfd-45e9-afa4-6d2a336abf2f",
   "metadata": {},
   "outputs": [
    {
     "name": "stdout",
     "output_type": "stream",
     "text": [
      "[4, 5, 6, [1, 2, 3], [7, 8, 9]]\n"
     ]
    }
   ],
   "source": [
    "#Nested list\n",
    "a=[1,2,3]\n",
    "b=[4,5,6,a,[7,8,9]]\n",
    "print(b)"
   ]
  },
  {
   "cell_type": "code",
   "execution_count": 8,
   "id": "b9c30996-8a17-4d5f-a09b-8b11d48726c6",
   "metadata": {},
   "outputs": [
    {
     "name": "stdout",
     "output_type": "stream",
     "text": [
      "<class 'tuple'>\n"
     ]
    }
   ],
   "source": [
    "#Tuple\n",
    "\n",
    "\"\"\"\n",
    "1-imputable\n",
    "2-heterogenious\n",
    "3-tuple()\n",
    "\"\"\"\n",
    "a=(10,2,30)\n",
    "print(type(a))"
   ]
  },
  {
   "cell_type": "code",
   "execution_count": null,
   "id": "f3ad12f1-1c68-4187-80e3-3de083ade628",
   "metadata": {},
   "outputs": [],
   "source": [
    "#Methods in Tuple\n",
    "\"\"\"\n",
    "len()\n",
    "min , max\n",
    "count()\n",
    "index()\n",
    "sorted()\n",
    "slicing\n",
    "\"\"\"\n",
    "#Values can not be changed\n"
   ]
  },
  {
   "cell_type": "code",
   "execution_count": null,
   "id": "fbe3ef7a-47f3-42b2-b8c8-38ee19d7858b",
   "metadata": {},
   "outputs": [],
   "source": [
    "#Dictionary\n",
    "\n",
    "\"\"\"\n",
    "1-pair --> key:value\n",
    "{}\n",
    "2-unordered before 3.7 version , but now it ordered\n",
    "3-mutable\n",
    "4-dynamic\n",
    "\"\"\"\n"
   ]
  },
  {
   "cell_type": "code",
   "execution_count": null,
   "id": "6f9d3ea9-331c-4f09-a37f-df766aa3234b",
   "metadata": {},
   "outputs": [],
   "source": []
  },
  {
   "cell_type": "code",
   "execution_count": null,
   "id": "c0223c9b-f689-46e3-999d-0284f8ccb609",
   "metadata": {},
   "outputs": [],
   "source": []
  },
  {
   "cell_type": "code",
   "execution_count": null,
   "id": "732e1e63-4cd0-4eb6-88b4-9f78d5a2f971",
   "metadata": {},
   "outputs": [],
   "source": []
  },
  {
   "cell_type": "code",
   "execution_count": null,
   "id": "319e0333-ff09-4617-84da-647d2833153c",
   "metadata": {},
   "outputs": [],
   "source": []
  },
  {
   "cell_type": "code",
   "execution_count": null,
   "id": "f89db46b-f97e-4c0f-951b-cc66d11ad67d",
   "metadata": {},
   "outputs": [],
   "source": []
  },
  {
   "cell_type": "code",
   "execution_count": 18,
   "id": "6a211572-7894-4d87-8077-2f2f5cf6f45d",
   "metadata": {},
   "outputs": [
    {
     "name": "stdout",
     "output_type": "stream",
     "text": [
      "I am maverick\n"
     ]
    }
   ],
   "source": [
    "def my_name():\n",
    "    print(\"I am maverick\")\n",
    "my_name()"
   ]
  },
  {
   "cell_type": "code",
   "execution_count": null,
   "id": "eedb7933-08e7-4e1d-8a8f-d4206abd8478",
   "metadata": {},
   "outputs": [],
   "source": [
    "district_name=input(\"enter your district name\")\n",
    "def district(a):\n",
    "    if a=='Mardan':\n",
    "        print(\"eligeble\")\n",
    "    elif a==\"Peshawar\":\n",
    "        print(\"eligeble\")\n",
    "    elif a==\"Swabi\":\n",
    "        print(\"eligeble\")\n",
    "    elif a==\"Swat\":\n",
    "        print(\"eligeble\")\n",
    "    else: \n",
    "        print(\"not eligeble\")\n",
    "district(district_name)\n"
   ]
  },
  {
   "cell_type": "code",
   "execution_count": 9,
   "id": "36028f74-b7de-48d7-ba8f-17683c1b04c5",
   "metadata": {},
   "outputs": [
    {
     "name": "stdout",
     "output_type": "stream",
     "text": [
      "I am maverick\n"
     ]
    }
   ],
   "source": [
    "my_name()"
   ]
  },
  {
   "cell_type": "code",
   "execution_count": 10,
   "id": "f284d26f-c864-4e44-aef9-bfd92e5cb5f0",
   "metadata": {},
   "outputs": [],
   "source": [
    "def sum(a,b,c)"
   ]
  },
  {
   "cell_type": "code",
   "execution_count": null,
   "id": "3591ea58-bb3d-4079-9460-440a524b999e",
   "metadata": {},
   "outputs": [],
   "source": []
  }
 ],
 "metadata": {
  "kernelspec": {
   "display_name": "Python 3 (ipykernel)",
   "language": "python",
   "name": "python3"
  },
  "language_info": {
   "codemirror_mode": {
    "name": "ipython",
    "version": 3
   },
   "file_extension": ".py",
   "mimetype": "text/x-python",
   "name": "python",
   "nbconvert_exporter": "python",
   "pygments_lexer": "ipython3",
   "version": "3.13.5"
  }
 },
 "nbformat": 4,
 "nbformat_minor": 5
}
